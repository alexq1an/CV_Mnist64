{
 "cells": [
  {
   "cell_type": "code",
   "execution_count": 137,
   "metadata": {},
   "outputs": [],
   "source": [
    "import numpy as np\n",
    "from utils import get_lenet\n",
    "from load_mnist import load_mnist\n",
    "from scipy.io import loadmat\n",
    "from conv_net import convnet_forward\n",
    "from init_convnet import init_convnet\n",
    "import matplotlib.pyplot as plt"
   ]
  },
  {
   "cell_type": "code",
   "execution_count": 138,
   "metadata": {},
   "outputs": [],
   "source": [
    "# Load the model architecture\n",
    "layers = get_lenet()\n",
    "params = init_convnet(layers)\n",
    "\n",
    "# Load the network\n",
    "data = loadmat('../results/lenet.mat')\n",
    "params_raw = data['params']\n",
    "\n",
    "for params_idx in range(len(params)):\n",
    "    raw_w = params_raw[0,params_idx][0,0][0]\n",
    "    raw_b = params_raw[0,params_idx][0,0][1]\n",
    "    assert params[params_idx]['w'].shape == raw_w.shape, 'weights do not have the same shape'\n",
    "    assert params[params_idx]['b'].shape == raw_b.shape, 'biases do not have the same shape'\n",
    "    params[params_idx]['w'] = raw_w\n",
    "    params[params_idx]['b'] = raw_b"
   ]
  },
  {
   "cell_type": "code",
   "execution_count": 139,
   "metadata": {},
   "outputs": [
    {
     "data": {
      "image/png": "[encoded data removed]",
      "text/plain": [
       "<Figure size 640x480 with 1 Axes>"
      ]
     },
     "metadata": {},
     "output_type": "display_data"
    }
   ],
   "source": [
    "# Load data\n",
    "fullset = False\n",
    "xtrain, ytrain, xvalidate, yvalidate, xtest, ytest = load_mnist(fullset)\n",
    "m_train = xtrain.shape[1]\n",
    "\n",
    "batch_size = 1\n",
    "layers[0]['batch_size'] = batch_size\n",
    "\n",
    "img = xtest[:,0]\n",
    "img = np.reshape(img, (28, 28), order='F')\n",
    "plt.imshow(img.T, cmap='gray')\n",
    "plt.show()"
   ]
  },
  {
   "cell_type": "code",
   "execution_count": 140,
   "metadata": {},
   "outputs": [],
   "source": [
    "output = convnet_forward(params, layers, xtest[:,0:1])\n",
    "output_1 = np.reshape(output[0]['data'], (28,28), order='F')\n",
    "\n",
    "##### Fill in your code here to plot the features ######\n"
   ]
  },
  {
   "cell_type": "code",
   "execution_count": 141,
   "metadata": {},
   "outputs": [
    {
     "data": {
      "image/png": "[encoded data removed]",
      "text/plain": [
       "<Figure size 640x480 with 1 Axes>"
      ]
     },
     "metadata": {},
     "output_type": "display_data"
    }
   ],
   "source": [
    "fig, ax = plt.subplots(1,1)\n",
    "ax.imshow(output_1.T, cmap='gray')\n",
    "ax.set_axis_off()\n",
    "\n",
    "fig.suptitle('Original Image')\n",
    "plt.savefig('../results/original_image.png')\n"
   ]
  },
  {
   "cell_type": "code",
   "execution_count": 142,
   "metadata": {},
   "outputs": [],
   "source": [
    "def plot_layer_outputs(output, layer_idx, title, filename):\n",
    "    fig, axes = plt.subplots(4, 5, figsize=(10, 8))\n",
    "    data_size = output[layer_idx]['height'] * output[layer_idx]['width']\n",
    "    start = 0\n",
    "\n",
    "    # Loop through the 4x5 subplot grid\n",
    "    for i, ax in enumerate(axes.flat):\n",
    "        end = start + data_size\n",
    "        # Extract and reshape image data\n",
    "        img_data = output[layer_idx]['data'][start:end]\n",
    "        img = np.reshape(img_data, (output[layer_idx]['height'], output[layer_idx]['width']), order='F')\n",
    "        ax.imshow(img.T, cmap='gray')\n",
    "        ax.set_axis_off()\n",
    "        # Add a number label to each subplot\n",
    "        ax.text(0.5, -0.1, str(i + 1), fontsize=12, color='black',\n",
    "                ha='center', va='center', transform=ax.transAxes,\n",
    "                )\n",
    "\n",
    "        start = end\n",
    "\n",
    "    # Add title and save the figure\n",
    "    fig.suptitle(title, fontsize=16)\n",
    "    plt.tight_layout(rect=[0, 0, 1, 0.96])\n",
    "    plt.savefig(filename)\n",
    "    plt.close(fig)  # Close the figure to prevent display overlap"
   ]
  },
  {
   "cell_type": "code",
   "execution_count": 143,
   "metadata": {},
   "outputs": [],
   "source": [
    "# Plot and save outputs from the second and third layers\n",
    "plot_layer_outputs(output, layer_idx=1, title=\"Convolution Layer 2\", filename='../results/second_layer.png')\n"
   ]
  },
  {
   "cell_type": "code",
   "execution_count": 144,
   "metadata": {},
   "outputs": [],
   "source": [
    "plot_layer_outputs(output, layer_idx=2, title=\"ReLU Layer 3\", filename='../results/third_layer.png')"
   ]
  }
 ],
 "metadata": {
  "kernelspec": {
   "display_name": "cv_proj1",
   "language": "python",
   "name": "python3"
  },
  "language_info": {
   "codemirror_mode": {
    "name": "ipython",
    "version": 3
   },
   "file_extension": ".py",
   "mimetype": "text/x-python",
   "name": "python",
   "nbconvert_exporter": "python",
   "pygments_lexer": "ipython3",
   "version": "3.8.20"
  }
 },
 "nbformat": 4,
 "nbformat_minor": 2
}
